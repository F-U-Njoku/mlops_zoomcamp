{
 "cells": [
  {
   "cell_type": "code",
   "execution_count": 1,
   "id": "7cb59b49-e489-40ee-8813-8c834840bf01",
   "metadata": {},
   "outputs": [],
   "source": [
    "import os\n",
    "import preprocess_data as prep"
   ]
  },
  {
   "cell_type": "markdown",
   "id": "4b985df4-468e-4211-a67b-591fd330c428",
   "metadata": {},
   "source": [
    "### Q1. Install MLflow"
   ]
  },
  {
   "cell_type": "code",
   "execution_count": null,
   "id": "fcda291d-3daa-4370-b5e8-c026e8b83b81",
   "metadata": {
    "scrolled": true
   },
   "outputs": [],
   "source": [
    "!conda install mlflow -y"
   ]
  },
  {
   "cell_type": "code",
   "execution_count": 1,
   "id": "8e28e021-542f-40b7-bf6e-645fe7c81db3",
   "metadata": {},
   "outputs": [],
   "source": [
    "import mlflow"
   ]
  },
  {
   "cell_type": "code",
   "execution_count": 8,
   "id": "a4096c6b-feaf-4329-86fa-422e4279b5b6",
   "metadata": {},
   "outputs": [
    {
     "name": "stdout",
     "output_type": "stream",
     "text": [
      "mlflow, version 2.12.2\n"
     ]
    }
   ],
   "source": [
    "!mlflow --version"
   ]
  },
  {
   "cell_type": "markdown",
   "id": "a30cba51-f0f7-4b29-b329-853d9f93d618",
   "metadata": {},
   "source": [
    "What's the version that you have? **2.12.2**"
   ]
  },
  {
   "cell_type": "markdown",
   "id": "b4901ec5-b494-4c55-b287-a5efca7b609a",
   "metadata": {},
   "source": [
    "### Q2. Download and preprocess the data"
   ]
  },
  {
   "cell_type": "code",
   "execution_count": null,
   "id": "d56c3b06-139d-497e-85b4-3dc8fd4a1b98",
   "metadata": {
    "scrolled": true
   },
   "outputs": [],
   "source": [
    "!wget https://raw.githubusercontent.com/DataTalksClub/mlops-zoomcamp/refs/heads/main/cohorts/2025/02-experiment-tracking/homework/preprocess_data.py"
   ]
  },
  {
   "cell_type": "code",
   "execution_count": null,
   "id": "2bd5ebe7-bbc1-48b9-981d-1c8d1e3cf9b4",
   "metadata": {},
   "outputs": [],
   "source": [
    "links = [\"https://d37ci6vzurychx.cloudfront.net/trip-data/yellow_tripdata_2023-01.parquet\",\n",
    "\"https://d37ci6vzurychx.cloudfront.net/trip-data/yellow_tripdata_2023-02.parquet\",\n",
    "\"https://d37ci6vzurychx.cloudfront.net/trip-data/yellow_tripdata_2023-03.parquet\"]\n",
    "\n",
    "for link in links:\n",
    "    os.system(f\"wget {link} -P taxi_data\")"
   ]
  },
  {
   "cell_type": "code",
   "execution_count": 8,
   "id": "b5bfcd82-0cef-475a-af37-9c2121fca7e9",
   "metadata": {},
   "outputs": [
    {
     "data": {
      "text/plain": [
       "0"
      ]
     },
     "execution_count": 8,
     "metadata": {},
     "output_type": "execute_result"
    }
   ],
   "source": [
    "os.system(f\"python preprocess_data.py --raw_data_path taxi_data --dest_path ./output\")"
   ]
  },
  {
   "cell_type": "markdown",
   "id": "a4822d12-68d2-4ba3-a45d-105de2214e85",
   "metadata": {},
   "source": [
    "How many files were saved to OUTPUT_FOLDER? **4**"
   ]
  },
  {
   "cell_type": "markdown",
   "id": "2d9b65ed-1074-4ade-9ade-d5411a0c6028",
   "metadata": {},
   "source": [
    "### Q3. Train a model with autolog"
   ]
  },
  {
   "cell_type": "code",
   "execution_count": null,
   "id": "d4e74ffa-3391-4d58-b2a4-395110262c97",
   "metadata": {},
   "outputs": [],
   "source": [
    "train_link = \"https://raw.githubusercontent.com/DataTalksClub/mlops-zoomcamp/refs/heads/main/cohorts/2025/02-experiment-tracking/homework/train.py\"\n",
    "os.system(f\"wget {train_link}\")"
   ]
  },
  {
   "cell_type": "code",
   "execution_count": 12,
   "id": "404015ad-d74c-4bfb-b8c1-e948dd505ae9",
   "metadata": {},
   "outputs": [
    {
     "name": "stderr",
     "output_type": "stream",
     "text": [
      "2025/05/28 07:19:11 INFO mlflow.tracking.fluent: Experiment with name 'experiment_tracking_homework' does not exist. Creating a new experiment.\n",
      "2025/05/28 07:19:12 INFO mlflow.utils.autologging_utils: Created MLflow autologging run with ID 'ee1822d0d37a441faefc2d2d56f0672a', which will track hyperparameters, performance metrics, model artifacts, and lineage information for the current sklearn workflow\n"
     ]
    },
    {
     "data": {
      "text/plain": [
       "0"
      ]
     },
     "execution_count": 12,
     "metadata": {},
     "output_type": "execute_result"
    }
   ],
   "source": [
    "os.system(f\"python train.py --data_path ./output\")"
   ]
  },
  {
   "cell_type": "markdown",
   "id": "c6cb4350-eb9a-4d52-a99d-48db27eb860b",
   "metadata": {},
   "source": [
    "What is the value of the min_samples_split parameter: **2**"
   ]
  },
  {
   "cell_type": "markdown",
   "id": "ea87fc07-7f55-4571-ad3c-aa3ba5a26023",
   "metadata": {},
   "source": [
    "### Q4. Launch the tracking server locally"
   ]
  },
  {
   "cell_type": "markdown",
   "id": "be05ecef-1836-4dcc-b008-e9bbe2fbfdd4",
   "metadata": {},
   "source": [
    "In addition to backend-store-uri, what else do you need to pass to properly configure the server? **default-artifact-root**"
   ]
  },
  {
   "cell_type": "markdown",
   "id": "2b496076-aca0-4fae-8ea7-51d0062c6602",
   "metadata": {},
   "source": [
    "### Q5. Tune model hyperparameters"
   ]
  },
  {
   "cell_type": "code",
   "execution_count": 2,
   "id": "944e0604-3ff9-4ea1-baa4-168684281696",
   "metadata": {},
   "outputs": [
    {
     "name": "stderr",
     "output_type": "stream",
     "text": [
      "--2025-05-29 21:09:31--  https://raw.githubusercontent.com/DataTalksClub/mlops-zoomcamp/refs/heads/main/cohorts/2025/02-experiment-tracking/homework/hpo.py\n",
      "Resolving raw.githubusercontent.com (raw.githubusercontent.com)... 185.199.111.133, 185.199.110.133, 185.199.108.133, ...\n",
      "Connecting to raw.githubusercontent.com (raw.githubusercontent.com)|185.199.111.133|:443... connected.\n",
      "HTTP request sent, awaiting response... 200 OK\n",
      "Length: 1836 (1.8K) [text/plain]\n",
      "Saving to: ‘hpo.py’\n",
      "\n",
      "     0K .                                                     100% 32.4M=0s\n",
      "\n",
      "2025-05-29 21:09:31 (32.4 MB/s) - ‘hpo.py’ saved [1836/1836]\n",
      "\n"
     ]
    },
    {
     "data": {
      "text/plain": [
       "0"
      ]
     },
     "execution_count": 2,
     "metadata": {},
     "output_type": "execute_result"
    }
   ],
   "source": [
    "tune_link = \"https://raw.githubusercontent.com/DataTalksClub/mlops-zoomcamp/refs/heads/main/cohorts/2025/02-experiment-tracking/homework/hpo.py\"\n",
    "os.system(f\"wget {tune_link}\")"
   ]
  },
  {
   "cell_type": "code",
   "execution_count": 6,
   "id": "9e58242f-7bce-4e02-bc0f-b8e4fd86baff",
   "metadata": {
    "scrolled": true
   },
   "outputs": [
    {
     "name": "stderr",
     "output_type": "stream",
     "text": [
      "2025/05/29 21:30:02 INFO mlflow.tracking.fluent: Experiment with name 'random-forest-hyperopt' does not exist. Creating a new experiment.\n"
     ]
    },
    {
     "name": "stdout",
     "output_type": "stream",
     "text": [
      "🏃 View run brawny-shrimp-840 at: http://127.0.0.1:5000/#/experiments/1/runs/0dd74398a40f4cc993daf10d6a7b3cc1\n",
      "\n",
      "🧪 View experiment at: http://127.0.0.1:5000/#/experiments/1\n",
      "\n",
      "🏃 View run lyrical-bass-586 at: http://127.0.0.1:5000/#/experiments/1/runs/361e5464fa0f43dc9bf6fa88e14722e3\n",
      "\n",
      "🧪 View experiment at: http://127.0.0.1:5000/#/experiments/1                      \n",
      "\n",
      "🏃 View run able-gnu-521 at: http://127.0.0.1:5000/#/experiments/1/runs/db2d20aa86dc439f99dc68ea493dc0ea\n",
      "\n",
      "🧪 View experiment at: http://127.0.0.1:5000/#/experiments/1                    \n",
      "\n",
      "🏃 View run smiling-stoat-430 at: http://127.0.0.1:5000/#/experiments/1/runs/059bd8ff4aa74e79a3ea9e1f481064d4\n",
      "\n",
      "🧪 View experiment at: http://127.0.0.1:5000/#/experiments/1                    \n",
      "\n",
      "🏃 View run thoughtful-hog-174 at: http://127.0.0.1:5000/#/experiments/1/runs/cc49ddd9bd0242818aba98f11ed8ed92\n",
      "\n",
      "🧪 View experiment at: http://127.0.0.1:5000/#/experiments/1                     \n",
      "\n",
      "🏃 View run melodic-lark-857 at: http://127.0.0.1:5000/#/experiments/1/runs/b754dce470ad40e2ae9e9f6c2a391a1e\n",
      "\n",
      "🧪 View experiment at: http://127.0.0.1:5000/#/experiments/1                     \n",
      "\n",
      "🏃 View run thoughtful-toad-183 at: http://127.0.0.1:5000/#/experiments/1/runs/451725d45761409a8743b2ab0cfeb001\n",
      "\n",
      "🧪 View experiment at: http://127.0.0.1:5000/#/experiments/1                    \n",
      "\n",
      "🏃 View run wise-robin-4 at: http://127.0.0.1:5000/#/experiments/1/runs/e34f8fba2b0a4e3eb87604da356f02ec\n",
      "\n",
      "🧪 View experiment at: http://127.0.0.1:5000/#/experiments/1                      \n",
      "\n",
      "🏃 View run amazing-worm-655 at: http://127.0.0.1:5000/#/experiments/1/runs/33e1b34ee6194ba6b5412fac2ce7b4f3\n",
      "\n",
      "🧪 View experiment at: http://127.0.0.1:5000/#/experiments/1                    \n",
      "\n",
      "🏃 View run sneaky-lark-1000 at: http://127.0.0.1:5000/#/experiments/1/runs/4d10d5e12fa44401916d2ebdebab367c\n",
      "\n",
      "🧪 View experiment at: http://127.0.0.1:5000/#/experiments/1                    \n",
      "\n",
      "🏃 View run learned-rat-774 at: http://127.0.0.1:5000/#/experiments/1/runs/f157734b51d14b0cabb2fe30fd0c9d2e\n",
      "\n",
      "🧪 View experiment at: http://127.0.0.1:5000/#/experiments/1                     \n",
      "\n",
      "🏃 View run bald-newt-891 at: http://127.0.0.1:5000/#/experiments/1/runs/b2eec54d5cc0450d954374a3f2156da7\n",
      "\n",
      "🧪 View experiment at: http://127.0.0.1:5000/#/experiments/1                     \n",
      "\n",
      "🏃 View run debonair-midge-447 at: http://127.0.0.1:5000/#/experiments/1/runs/68aeb3a163074c67806db9347c1d7dc3\n",
      "\n",
      "🧪 View experiment at: http://127.0.0.1:5000/#/experiments/1                       \n",
      "\n",
      "🏃 View run brawny-hare-642 at: http://127.0.0.1:5000/#/experiments/1/runs/b14edb098afb447a9f67e541c49121d0\n",
      "\n",
      "🧪 View experiment at: http://127.0.0.1:5000/#/experiments/1                       \n",
      "\n",
      "🏃 View run selective-crab-461 at: http://127.0.0.1:5000/#/experiments/1/runs/8819a2ef7ae946cb8d89a13b2c538413\n",
      "\n",
      "🧪 View experiment at: http://127.0.0.1:5000/#/experiments/1                       \n",
      "\n",
      "100%|██████████| 15/15 [1:11:22<00:00, 285.47s/trial, best loss: 5.037464215926993]\n"
     ]
    },
    {
     "data": {
      "text/plain": [
       "0"
      ]
     },
     "execution_count": 6,
     "metadata": {},
     "output_type": "execute_result"
    }
   ],
   "source": [
    "os.system(f\"python hpo.py\")"
   ]
  },
  {
   "cell_type": "markdown",
   "id": "bc9b75fd-593f-49bf-8f26-7c78fa9d8ea0",
   "metadata": {},
   "source": [
    "What is the test RMSE of the best model? **5.0375**"
   ]
  },
  {
   "cell_type": "markdown",
   "id": "6ebbf641-f4d2-40d9-bdd0-849fd0786191",
   "metadata": {},
   "source": [
    "### Q6. Promote the best model to the model registry"
   ]
  },
  {
   "cell_type": "code",
   "execution_count": 7,
   "id": "d01e52c3-a4b2-40ec-826c-8cda4f40e032",
   "metadata": {},
   "outputs": [
    {
     "name": "stderr",
     "output_type": "stream",
     "text": [
      "--2025-05-29 22:54:14--  https://raw.githubusercontent.com/DataTalksClub/mlops-zoomcamp/refs/heads/main/cohorts/2025/02-experiment-tracking/homework/register_model.py\n",
      "Resolving raw.githubusercontent.com (raw.githubusercontent.com)... 185.199.108.133, 185.199.109.133, 185.199.110.133, ...\n",
      "Connecting to raw.githubusercontent.com (raw.githubusercontent.com)|185.199.108.133|:443... connected.\n",
      "HTTP request sent, awaiting response... 200 OK\n",
      "Length: 2487 (2.4K) [text/plain]\n",
      "Saving to: ‘register_model.py’\n",
      "\n",
      "     0K ..                                                    100% 18.9M=0s\n",
      "\n",
      "2025-05-29 22:54:14 (18.9 MB/s) - ‘register_model.py’ saved [2487/2487]\n",
      "\n"
     ]
    },
    {
     "data": {
      "text/plain": [
       "0"
      ]
     },
     "execution_count": 7,
     "metadata": {},
     "output_type": "execute_result"
    }
   ],
   "source": [
    "reg_link = \"https://raw.githubusercontent.com/DataTalksClub/mlops-zoomcamp/refs/heads/main/cohorts/2025/02-experiment-tracking/homework/register_model.py\"\n",
    "os.system(f\"wget {reg_link}\")"
   ]
  },
  {
   "cell_type": "code",
   "execution_count": null,
   "id": "3bcea7bb-e953-4405-834c-18da8078988c",
   "metadata": {},
   "outputs": [],
   "source": [
    "os.system(f\"python register_model.py\")"
   ]
  },
  {
   "cell_type": "code",
   "execution_count": null,
   "id": "5b5b9641-2537-4926-8430-9897b2d9a462",
   "metadata": {},
   "outputs": [],
   "source": []
  }
 ],
 "metadata": {
  "kernelspec": {
   "display_name": "Python 3 (ipykernel)",
   "language": "python",
   "name": "python3"
  },
  "language_info": {
   "codemirror_mode": {
    "name": "ipython",
    "version": 3
   },
   "file_extension": ".py",
   "mimetype": "text/x-python",
   "name": "python",
   "nbconvert_exporter": "python",
   "pygments_lexer": "ipython3",
   "version": "3.12.2"
  }
 },
 "nbformat": 4,
 "nbformat_minor": 5
}
