{
 "cells": [
  {
   "cell_type": "code",
   "execution_count": 10,
   "id": "7cb59b49-e489-40ee-8813-8c834840bf01",
   "metadata": {},
   "outputs": [],
   "source": [
    "import os\n",
    "import preprocess_data as prep"
   ]
  },
  {
   "cell_type": "markdown",
   "id": "4b985df4-468e-4211-a67b-591fd330c428",
   "metadata": {},
   "source": [
    "### Q1. Install MLflow"
   ]
  },
  {
   "cell_type": "code",
   "execution_count": null,
   "id": "fcda291d-3daa-4370-b5e8-c026e8b83b81",
   "metadata": {
    "scrolled": true
   },
   "outputs": [],
   "source": [
    "!conda install mlflow -y"
   ]
  },
  {
   "cell_type": "code",
   "execution_count": 1,
   "id": "8e28e021-542f-40b7-bf6e-645fe7c81db3",
   "metadata": {},
   "outputs": [],
   "source": [
    "import mlflow"
   ]
  },
  {
   "cell_type": "code",
   "execution_count": 8,
   "id": "a4096c6b-feaf-4329-86fa-422e4279b5b6",
   "metadata": {},
   "outputs": [
    {
     "name": "stdout",
     "output_type": "stream",
     "text": [
      "mlflow, version 2.12.2\n"
     ]
    }
   ],
   "source": [
    "!mlflow --version"
   ]
  },
  {
   "cell_type": "markdown",
   "id": "a30cba51-f0f7-4b29-b329-853d9f93d618",
   "metadata": {},
   "source": [
    "What's the version that you have? **2.12.2**"
   ]
  },
  {
   "cell_type": "markdown",
   "id": "b4901ec5-b494-4c55-b287-a5efca7b609a",
   "metadata": {},
   "source": [
    "### Q2. Download and preprocess the data"
   ]
  },
  {
   "cell_type": "code",
   "execution_count": null,
   "id": "d56c3b06-139d-497e-85b4-3dc8fd4a1b98",
   "metadata": {
    "scrolled": true
   },
   "outputs": [],
   "source": [
    "!wget https://raw.githubusercontent.com/DataTalksClub/mlops-zoomcamp/refs/heads/main/cohorts/2025/02-experiment-tracking/homework/preprocess_data.py"
   ]
  },
  {
   "cell_type": "code",
   "execution_count": null,
   "id": "2bd5ebe7-bbc1-48b9-981d-1c8d1e3cf9b4",
   "metadata": {},
   "outputs": [],
   "source": [
    "links = [\"https://d37ci6vzurychx.cloudfront.net/trip-data/yellow_tripdata_2023-01.parquet\",\n",
    "\"https://d37ci6vzurychx.cloudfront.net/trip-data/yellow_tripdata_2023-02.parquet\",\n",
    "\"https://d37ci6vzurychx.cloudfront.net/trip-data/yellow_tripdata_2023-03.parquet\"]\n",
    "\n",
    "for link in links:\n",
    "    os.system(f\"wget {link} -P taxi_data\")"
   ]
  },
  {
   "cell_type": "code",
   "execution_count": 8,
   "id": "b5bfcd82-0cef-475a-af37-9c2121fca7e9",
   "metadata": {},
   "outputs": [
    {
     "data": {
      "text/plain": [
       "0"
      ]
     },
     "execution_count": 8,
     "metadata": {},
     "output_type": "execute_result"
    }
   ],
   "source": [
    "os.system(f\"python preprocess_data.py --raw_data_path taxi_data --dest_path ./output\")"
   ]
  },
  {
   "cell_type": "markdown",
   "id": "a4822d12-68d2-4ba3-a45d-105de2214e85",
   "metadata": {},
   "source": [
    "How many files were saved to OUTPUT_FOLDER? **4**"
   ]
  },
  {
   "cell_type": "markdown",
   "id": "2d9b65ed-1074-4ade-9ade-d5411a0c6028",
   "metadata": {},
   "source": [
    "### Q3. Train a model with autolog"
   ]
  },
  {
   "cell_type": "code",
   "execution_count": null,
   "id": "d4e74ffa-3391-4d58-b2a4-395110262c97",
   "metadata": {},
   "outputs": [],
   "source": [
    "train_link = \"https://raw.githubusercontent.com/DataTalksClub/mlops-zoomcamp/refs/heads/main/cohorts/2025/02-experiment-tracking/homework/train.py\"\n",
    "os.system(f\"wget {train_link}\")"
   ]
  },
  {
   "cell_type": "code",
   "execution_count": 12,
   "id": "404015ad-d74c-4bfb-b8c1-e948dd505ae9",
   "metadata": {},
   "outputs": [
    {
     "name": "stderr",
     "output_type": "stream",
     "text": [
      "2025/05/28 07:19:11 INFO mlflow.tracking.fluent: Experiment with name 'experiment_tracking_homework' does not exist. Creating a new experiment.\n",
      "2025/05/28 07:19:12 INFO mlflow.utils.autologging_utils: Created MLflow autologging run with ID 'ee1822d0d37a441faefc2d2d56f0672a', which will track hyperparameters, performance metrics, model artifacts, and lineage information for the current sklearn workflow\n"
     ]
    },
    {
     "data": {
      "text/plain": [
       "0"
      ]
     },
     "execution_count": 12,
     "metadata": {},
     "output_type": "execute_result"
    }
   ],
   "source": [
    "os.system(f\"python train.py --data_path ./output\")"
   ]
  },
  {
   "cell_type": "markdown",
   "id": "c6cb4350-eb9a-4d52-a99d-48db27eb860b",
   "metadata": {},
   "source": [
    "What is the value of the min_samples_split parameter: **2**"
   ]
  },
  {
   "cell_type": "code",
   "execution_count": null,
   "id": "cc7e3a88-1e0e-4044-85dc-b63b24326643",
   "metadata": {},
   "outputs": [],
   "source": []
  }
 ],
 "metadata": {
  "kernelspec": {
   "display_name": "Python 3 (ipykernel)",
   "language": "python",
   "name": "python3"
  },
  "language_info": {
   "codemirror_mode": {
    "name": "ipython",
    "version": 3
   },
   "file_extension": ".py",
   "mimetype": "text/x-python",
   "name": "python",
   "nbconvert_exporter": "python",
   "pygments_lexer": "ipython3",
   "version": "3.12.7"
  }
 },
 "nbformat": 4,
 "nbformat_minor": 5
}
