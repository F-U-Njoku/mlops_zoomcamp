{
 "cells": [
  {
   "cell_type": "code",
   "execution_count": 2,
   "id": "7cb59b49-e489-40ee-8813-8c834840bf01",
   "metadata": {},
   "outputs": [],
   "source": [
    "import os\n",
    "import mlflow\n",
    "import preprocess_data as prep"
   ]
  },
  {
   "cell_type": "markdown",
   "id": "4b985df4-468e-4211-a67b-591fd330c428",
   "metadata": {},
   "source": [
    "### Q1. Install MLflow"
   ]
  },
  {
   "cell_type": "code",
   "execution_count": 8,
   "id": "a4096c6b-feaf-4329-86fa-422e4279b5b6",
   "metadata": {},
   "outputs": [
    {
     "name": "stdout",
     "output_type": "stream",
     "text": [
      "mlflow, version 2.12.2\n"
     ]
    }
   ],
   "source": [
    "!mlflow --version"
   ]
  },
  {
   "cell_type": "markdown",
   "id": "a30cba51-f0f7-4b29-b329-853d9f93d618",
   "metadata": {},
   "source": [
    "What's the version that you have? **2.12.2**"
   ]
  },
  {
   "cell_type": "markdown",
   "id": "b4901ec5-b494-4c55-b287-a5efca7b609a",
   "metadata": {},
   "source": [
    "### Q2. Download and preprocess the data"
   ]
  },
  {
   "cell_type": "code",
   "execution_count": null,
   "id": "d56c3b06-139d-497e-85b4-3dc8fd4a1b98",
   "metadata": {
    "scrolled": true
   },
   "outputs": [],
   "source": [
    "!wget https://raw.githubusercontent.com/DataTalksClub/mlops-zoomcamp/refs/heads/main/cohorts/2025/02-experiment-tracking/homework/preprocess_data.py"
   ]
  },
  {
   "cell_type": "code",
   "execution_count": null,
   "id": "2bd5ebe7-bbc1-48b9-981d-1c8d1e3cf9b4",
   "metadata": {},
   "outputs": [],
   "source": [
    "links = [\"https://d37ci6vzurychx.cloudfront.net/trip-data/yellow_tripdata_2023-01.parquet\",\n",
    "\"https://d37ci6vzurychx.cloudfront.net/trip-data/yellow_tripdata_2023-02.parquet\",\n",
    "\"https://d37ci6vzurychx.cloudfront.net/trip-data/yellow_tripdata_2023-03.parquet\"]\n",
    "\n",
    "for link in links:\n",
    "    os.system(f\"wget {link} -P taxi_data\")"
   ]
  },
  {
   "cell_type": "code",
   "execution_count": 8,
   "id": "b5bfcd82-0cef-475a-af37-9c2121fca7e9",
   "metadata": {},
   "outputs": [
    {
     "data": {
      "text/plain": [
       "0"
      ]
     },
     "execution_count": 8,
     "metadata": {},
     "output_type": "execute_result"
    }
   ],
   "source": [
    "os.system(f\"python preprocess_data.py --raw_data_path taxi_data --dest_path ./output\")"
   ]
  },
  {
   "cell_type": "markdown",
   "id": "a4822d12-68d2-4ba3-a45d-105de2214e85",
   "metadata": {},
   "source": [
    "How many files were saved to OUTPUT_FOLDER? **4**"
   ]
  },
  {
   "cell_type": "markdown",
   "id": "2d9b65ed-1074-4ade-9ade-d5411a0c6028",
   "metadata": {},
   "source": [
    "### Q3. Train a model with autolog"
   ]
  },
  {
   "cell_type": "code",
   "execution_count": null,
   "id": "d4e74ffa-3391-4d58-b2a4-395110262c97",
   "metadata": {},
   "outputs": [],
   "source": [
    "train_link = \"https://raw.githubusercontent.com/DataTalksClub/mlops-zoomcamp/refs/heads/main/cohorts/2025/02-experiment-tracking/homework/train.py\"\n",
    "os.system(f\"wget {train_link}\")"
   ]
  },
  {
   "cell_type": "code",
   "execution_count": 12,
   "id": "404015ad-d74c-4bfb-b8c1-e948dd505ae9",
   "metadata": {},
   "outputs": [
    {
     "name": "stderr",
     "output_type": "stream",
     "text": [
      "2025/05/28 07:19:11 INFO mlflow.tracking.fluent: Experiment with name 'experiment_tracking_homework' does not exist. Creating a new experiment.\n",
      "2025/05/28 07:19:12 INFO mlflow.utils.autologging_utils: Created MLflow autologging run with ID 'ee1822d0d37a441faefc2d2d56f0672a', which will track hyperparameters, performance metrics, model artifacts, and lineage information for the current sklearn workflow\n"
     ]
    },
    {
     "data": {
      "text/plain": [
       "0"
      ]
     },
     "execution_count": 12,
     "metadata": {},
     "output_type": "execute_result"
    }
   ],
   "source": [
    "os.system(f\"python train.py --data_path ./output\")"
   ]
  },
  {
   "cell_type": "markdown",
   "id": "c6cb4350-eb9a-4d52-a99d-48db27eb860b",
   "metadata": {},
   "source": [
    "What is the value of the min_samples_split parameter: **2**"
   ]
  },
  {
   "cell_type": "markdown",
   "id": "ea87fc07-7f55-4571-ad3c-aa3ba5a26023",
   "metadata": {},
   "source": [
    "### Q4. Launch the tracking server locally"
   ]
  },
  {
   "cell_type": "markdown",
   "id": "be05ecef-1836-4dcc-b008-e9bbe2fbfdd4",
   "metadata": {},
   "source": [
    "In addition to backend-store-uri, what else do you need to pass to properly configure the server? **default-artifact-root**"
   ]
  },
  {
   "cell_type": "markdown",
   "id": "2b496076-aca0-4fae-8ea7-51d0062c6602",
   "metadata": {},
   "source": [
    "### Q5. Tune model hyperparameters"
   ]
  },
  {
   "cell_type": "code",
   "execution_count": 2,
   "id": "944e0604-3ff9-4ea1-baa4-168684281696",
   "metadata": {},
   "outputs": [
    {
     "name": "stderr",
     "output_type": "stream",
     "text": [
      "--2025-05-29 21:09:31--  https://raw.githubusercontent.com/DataTalksClub/mlops-zoomcamp/refs/heads/main/cohorts/2025/02-experiment-tracking/homework/hpo.py\n",
      "Resolving raw.githubusercontent.com (raw.githubusercontent.com)... 185.199.111.133, 185.199.110.133, 185.199.108.133, ...\n",
      "Connecting to raw.githubusercontent.com (raw.githubusercontent.com)|185.199.111.133|:443... connected.\n",
      "HTTP request sent, awaiting response... 200 OK\n",
      "Length: 1836 (1.8K) [text/plain]\n",
      "Saving to: ‘hpo.py’\n",
      "\n",
      "     0K .                                                     100% 32.4M=0s\n",
      "\n",
      "2025-05-29 21:09:31 (32.4 MB/s) - ‘hpo.py’ saved [1836/1836]\n",
      "\n"
     ]
    },
    {
     "data": {
      "text/plain": [
       "0"
      ]
     },
     "execution_count": 2,
     "metadata": {},
     "output_type": "execute_result"
    }
   ],
   "source": [
    "tune_link = \"https://raw.githubusercontent.com/DataTalksClub/mlops-zoomcamp/refs/heads/main/cohorts/2025/02-experiment-tracking/homework/hpo.py\"\n",
    "os.system(f\"wget {tune_link}\")"
   ]
  },
  {
   "cell_type": "code",
   "execution_count": null,
   "id": "9e58242f-7bce-4e02-bc0f-b8e4fd86baff",
   "metadata": {
    "scrolled": true
   },
   "outputs": [],
   "source": [
    "os.system(f\"python hpo.py\")"
   ]
  },
  {
   "cell_type": "markdown",
   "id": "bc9b75fd-593f-49bf-8f26-7c78fa9d8ea0",
   "metadata": {},
   "source": [
    "What's the best validation RMSE that you got? **5.0375**"
   ]
  },
  {
   "cell_type": "markdown",
   "id": "6ebbf641-f4d2-40d9-bdd0-849fd0786191",
   "metadata": {},
   "source": [
    "### Q6. Promote the best model to the model registry"
   ]
  },
  {
   "cell_type": "code",
   "execution_count": 7,
   "id": "d01e52c3-a4b2-40ec-826c-8cda4f40e032",
   "metadata": {},
   "outputs": [
    {
     "name": "stderr",
     "output_type": "stream",
     "text": [
      "--2025-05-29 22:54:14--  https://raw.githubusercontent.com/DataTalksClub/mlops-zoomcamp/refs/heads/main/cohorts/2025/02-experiment-tracking/homework/register_model.py\n",
      "Resolving raw.githubusercontent.com (raw.githubusercontent.com)... 185.199.108.133, 185.199.109.133, 185.199.110.133, ...\n",
      "Connecting to raw.githubusercontent.com (raw.githubusercontent.com)|185.199.108.133|:443... connected.\n",
      "HTTP request sent, awaiting response... 200 OK\n",
      "Length: 2487 (2.4K) [text/plain]\n",
      "Saving to: ‘register_model.py’\n",
      "\n",
      "     0K ..                                                    100% 18.9M=0s\n",
      "\n",
      "2025-05-29 22:54:14 (18.9 MB/s) - ‘register_model.py’ saved [2487/2487]\n",
      "\n"
     ]
    },
    {
     "data": {
      "text/plain": [
       "0"
      ]
     },
     "execution_count": 7,
     "metadata": {},
     "output_type": "execute_result"
    }
   ],
   "source": [
    "reg_link = \"https://raw.githubusercontent.com/DataTalksClub/mlops-zoomcamp/refs/heads/main/cohorts/2025/02-experiment-tracking/homework/register_model.py\"\n",
    "os.system(f\"wget {reg_link}\")"
   ]
  },
  {
   "cell_type": "code",
   "execution_count": null,
   "id": "3bcea7bb-e953-4405-834c-18da8078988c",
   "metadata": {},
   "outputs": [],
   "source": [
    "os.system(f\"python register_model.py\")"
   ]
  },
  {
   "cell_type": "code",
   "execution_count": 3,
   "id": "5b5b9641-2537-4926-8430-9897b2d9a462",
   "metadata": {},
   "outputs": [],
   "source": [
    "HPO_EXPERIMENT_NAME = \"random-forest-hyperopt\"\n",
    "EXPERIMENT_NAME = \"random-forest-best-models\"\n",
    "RF_PARAMS = ['max_depth', 'n_estimators', 'min_samples_split', 'min_samples_leaf', 'random_state']\n",
    "\n",
    "mlflow.set_tracking_uri(\"http://127.0.0.1:5000\")\n",
    "mlflow.set_experiment(EXPERIMENT_NAME)\n",
    "mlflow.sklearn.autolog(log_datasets=False)"
   ]
  },
  {
   "cell_type": "code",
   "execution_count": 5,
   "id": "e80dc00b-4591-46be-92ac-bfb32c175b2a",
   "metadata": {},
   "outputs": [],
   "source": [
    "from mlflow.tracking import MlflowClient\n",
    "client = MlflowClient()"
   ]
  },
  {
   "cell_type": "code",
   "execution_count": 7,
   "id": "8250d413-219a-4b8f-9358-a8b07268f09a",
   "metadata": {},
   "outputs": [
    {
     "name": "stderr",
     "output_type": "stream",
     "text": [
      "Registered model 'random-forest-best-models' already exists. Creating a new version of this model...\n",
      "2025/05/30 13:59:23 INFO mlflow.store.model_registry.abstract_store: Waiting up to 300 seconds for model version to finish creation. Model name: random-forest-best-models, version 2\n",
      "Created version '2' of model 'random-forest-best-models'.\n"
     ]
    },
    {
     "data": {
      "text/plain": [
       "<ModelVersion: aliases=[], creation_timestamp=1748613563926, current_stage='None', description='', last_updated_timestamp=1748613563926, name='random-forest-best-models', run_id='f49803bcc42044e79ec78feba8d59e5e', run_link='', source='/workspaces/mlops_zoomcamp/02-experiment-tracking/artifacts/2/f49803bcc42044e79ec78feba8d59e5e/artifacts/model', status='READY', status_message=None, tags={}, user_id='', version='2'>"
      ]
     },
     "execution_count": 7,
     "metadata": {},
     "output_type": "execute_result"
    }
   ],
   "source": [
    "# Select the model with the lowest test RMSE\n",
    "experiment = client.get_experiment_by_name(EXPERIMENT_NAME)\n",
    "best_run = client.search_runs( \n",
    "    experiment_ids=experiment.experiment_id,\n",
    "    run_view_type=mlflow.entities.ViewType.ACTIVE_ONLY,\n",
    "    max_results=1,\n",
    "    order_by=[\"metrics.test_rmse ASC\"]\n",
    "  )[0]\n",
    "\n",
    "# Register the best model\n",
    "mlflow.register_model(\n",
    "    model_uri=f\"runs:/{best_run.info.run_id}/model\",\n",
    "    name=EXPERIMENT_NAME\n",
    ")"
   ]
  },
  {
   "cell_type": "markdown",
   "id": "7c55b1d2-5c19-475a-a426-dac81add0d9e",
   "metadata": {},
   "source": [
    "What is the test RMSE of the best model? **5.5405**"
   ]
  }
 ],
 "metadata": {
  "kernelspec": {
   "display_name": "Python 3 (ipykernel)",
   "language": "python",
   "name": "python3"
  },
  "language_info": {
   "codemirror_mode": {
    "name": "ipython",
    "version": 3
   },
   "file_extension": ".py",
   "mimetype": "text/x-python",
   "name": "python",
   "nbconvert_exporter": "python",
   "pygments_lexer": "ipython3",
   "version": "3.12.2"
  }
 },
 "nbformat": 4,
 "nbformat_minor": 5
}
