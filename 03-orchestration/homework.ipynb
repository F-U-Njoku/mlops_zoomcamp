{
 "cells": [
  {
   "cell_type": "code",
   "execution_count": 2,
   "id": "98d03cf4-92f8-418e-a835-107b0f2eccf8",
   "metadata": {},
   "outputs": [],
   "source": [
    "import os\n",
    "import prefect\n",
    "import pandas as pd"
   ]
  },
  {
   "cell_type": "code",
   "execution_count": 1,
   "id": "0472ce05-7042-4d01-9601-a4b24a19062b",
   "metadata": {},
   "outputs": [
    {
     "name": "stdout",
     "output_type": "stream",
     "text": [
      "Version:             3.4.4\n",
      "API version:         0.8.4\n",
      "Python version:      3.12.2\n",
      "Git commit:          0367d7aa\n",
      "Built:               Thu, May 29, 2025 09:37 PM\n",
      "OS/Arch:             linux/x86_64\n",
      "Profile:             ephemeral\n",
      "Server type:         ephemeral\n",
      "Pydantic version:    2.11.5\n",
      "Server:\n",
      "  Database:          sqlite\n",
      "  SQLite version:    3.46.0\n"
     ]
    }
   ],
   "source": [
    "!prefect version"
   ]
  },
  {
   "cell_type": "markdown",
   "id": "d3c74570-fa0a-4a4f-a869-346992c596cc",
   "metadata": {},
   "source": [
    "### Question 1. Select the Tool"
   ]
  },
  {
   "cell_type": "markdown",
   "id": "5d26a081-aca9-4022-9fd2-cdebaecb5df7",
   "metadata": {},
   "source": [
    "What's the name of the orchestrator you chose? **prefect**"
   ]
  },
  {
   "cell_type": "markdown",
   "id": "608c80e6-1ab6-4845-9020-6edcfa182048",
   "metadata": {},
   "source": [
    "### Question 2. Version"
   ]
  },
  {
   "cell_type": "markdown",
   "id": "9678575e-b5c8-4081-ac8b-9445b3cbed26",
   "metadata": {},
   "source": [
    "What's the version of the orchestrator? **3.4.4**"
   ]
  },
  {
   "cell_type": "markdown",
   "id": "760d76b6-3750-4f7a-9177-63fb59486e8f",
   "metadata": {},
   "source": [
    "### Question 3. Creating a pipeline"
   ]
  },
  {
   "cell_type": "code",
   "execution_count": 4,
   "id": "84482ca3-875a-4e06-a049-e7cf647266c5",
   "metadata": {},
   "outputs": [
    {
     "name": "stdout",
     "output_type": "stream",
     "text": [
      "The number of records is 3403766.\n"
     ]
    }
   ],
   "source": [
    "data_link = \"https://d37ci6vzurychx.cloudfront.net/trip-data/yellow_tripdata_2023-03.parquet\"\n",
    "df = pd.read_parquet(data_link)\n",
    "num_records = df.shape[0]\n",
    "print(f\"The number of records is {num_records}.\")"
   ]
  },
  {
   "cell_type": "markdown",
   "id": "cefe1937-3087-4fc2-b9bf-fb785b368728",
   "metadata": {},
   "source": [
    "How many records did we load? **3,403,766**"
   ]
  },
  {
   "cell_type": "markdown",
   "id": "8d18457d-a38e-4788-a235-347ce1ae4a07",
   "metadata": {},
   "source": [
    "### Question 4. Data preparation"
   ]
  },
  {
   "cell_type": "code",
   "execution_count": 9,
   "id": "b01b88df-1e8d-4f1b-a0ae-9909d4beaaaa",
   "metadata": {},
   "outputs": [
    {
     "name": "stdout",
     "output_type": "stream",
     "text": [
      "(3316216, 20)\n"
     ]
    },
    {
     "data": {
      "text/plain": [
       "0"
      ]
     },
     "execution_count": 9,
     "metadata": {},
     "output_type": "execute_result"
    }
   ],
   "source": [
    "os.system(\"python prefect_pipeline.py\")"
   ]
  },
  {
   "cell_type": "markdown",
   "id": "c193a90d-ca0e-467c-9ec6-0bf7d85a68e5",
   "metadata": {},
   "source": [
    "What's the size of the result? **3,316,216**"
   ]
  },
  {
   "cell_type": "markdown",
   "id": "b681b237-2922-41b2-9963-34322401e1d0",
   "metadata": {},
   "source": [
    "### Question 5. Train a model"
   ]
  },
  {
   "cell_type": "code",
   "execution_count": 12,
   "id": "8ace132d-60c1-4d1a-9cfd-fcf541779c96",
   "metadata": {},
   "outputs": [
    {
     "data": {
      "text/html": [
       "<div>\n",
       "<style scoped>\n",
       "    .dataframe tbody tr th:only-of-type {\n",
       "        vertical-align: middle;\n",
       "    }\n",
       "\n",
       "    .dataframe tbody tr th {\n",
       "        vertical-align: top;\n",
       "    }\n",
       "\n",
       "    .dataframe thead th {\n",
       "        text-align: right;\n",
       "    }\n",
       "</style>\n",
       "<table border=\"1\" class=\"dataframe\">\n",
       "  <thead>\n",
       "    <tr style=\"text-align: right;\">\n",
       "      <th></th>\n",
       "      <th>VendorID</th>\n",
       "      <th>tpep_pickup_datetime</th>\n",
       "      <th>tpep_dropoff_datetime</th>\n",
       "      <th>passenger_count</th>\n",
       "      <th>trip_distance</th>\n",
       "      <th>RatecodeID</th>\n",
       "      <th>store_and_fwd_flag</th>\n",
       "      <th>PULocationID</th>\n",
       "      <th>DOLocationID</th>\n",
       "      <th>payment_type</th>\n",
       "      <th>fare_amount</th>\n",
       "      <th>extra</th>\n",
       "      <th>mta_tax</th>\n",
       "      <th>tip_amount</th>\n",
       "      <th>tolls_amount</th>\n",
       "      <th>improvement_surcharge</th>\n",
       "      <th>total_amount</th>\n",
       "      <th>congestion_surcharge</th>\n",
       "      <th>Airport_fee</th>\n",
       "    </tr>\n",
       "  </thead>\n",
       "  <tbody>\n",
       "    <tr>\n",
       "      <th>0</th>\n",
       "      <td>2</td>\n",
       "      <td>2023-03-01 00:06:43</td>\n",
       "      <td>2023-03-01 00:16:43</td>\n",
       "      <td>1.0</td>\n",
       "      <td>0.00</td>\n",
       "      <td>1.0</td>\n",
       "      <td>N</td>\n",
       "      <td>238</td>\n",
       "      <td>42</td>\n",
       "      <td>2</td>\n",
       "      <td>8.6</td>\n",
       "      <td>1.0</td>\n",
       "      <td>0.5</td>\n",
       "      <td>0.00</td>\n",
       "      <td>0.0</td>\n",
       "      <td>1.0</td>\n",
       "      <td>11.10</td>\n",
       "      <td>0.0</td>\n",
       "      <td>0.00</td>\n",
       "    </tr>\n",
       "    <tr>\n",
       "      <th>1</th>\n",
       "      <td>2</td>\n",
       "      <td>2023-03-01 00:08:25</td>\n",
       "      <td>2023-03-01 00:39:30</td>\n",
       "      <td>2.0</td>\n",
       "      <td>12.40</td>\n",
       "      <td>1.0</td>\n",
       "      <td>N</td>\n",
       "      <td>138</td>\n",
       "      <td>231</td>\n",
       "      <td>1</td>\n",
       "      <td>52.7</td>\n",
       "      <td>6.0</td>\n",
       "      <td>0.5</td>\n",
       "      <td>12.54</td>\n",
       "      <td>0.0</td>\n",
       "      <td>1.0</td>\n",
       "      <td>76.49</td>\n",
       "      <td>2.5</td>\n",
       "      <td>1.25</td>\n",
       "    </tr>\n",
       "    <tr>\n",
       "      <th>2</th>\n",
       "      <td>1</td>\n",
       "      <td>2023-03-01 00:15:04</td>\n",
       "      <td>2023-03-01 00:29:26</td>\n",
       "      <td>0.0</td>\n",
       "      <td>3.30</td>\n",
       "      <td>1.0</td>\n",
       "      <td>N</td>\n",
       "      <td>140</td>\n",
       "      <td>186</td>\n",
       "      <td>1</td>\n",
       "      <td>18.4</td>\n",
       "      <td>3.5</td>\n",
       "      <td>0.5</td>\n",
       "      <td>4.65</td>\n",
       "      <td>0.0</td>\n",
       "      <td>1.0</td>\n",
       "      <td>28.05</td>\n",
       "      <td>2.5</td>\n",
       "      <td>0.00</td>\n",
       "    </tr>\n",
       "    <tr>\n",
       "      <th>3</th>\n",
       "      <td>1</td>\n",
       "      <td>2023-03-01 00:49:37</td>\n",
       "      <td>2023-03-01 01:01:05</td>\n",
       "      <td>1.0</td>\n",
       "      <td>2.90</td>\n",
       "      <td>1.0</td>\n",
       "      <td>N</td>\n",
       "      <td>140</td>\n",
       "      <td>43</td>\n",
       "      <td>1</td>\n",
       "      <td>15.6</td>\n",
       "      <td>3.5</td>\n",
       "      <td>0.5</td>\n",
       "      <td>4.10</td>\n",
       "      <td>0.0</td>\n",
       "      <td>1.0</td>\n",
       "      <td>24.70</td>\n",
       "      <td>2.5</td>\n",
       "      <td>0.00</td>\n",
       "    </tr>\n",
       "    <tr>\n",
       "      <th>4</th>\n",
       "      <td>2</td>\n",
       "      <td>2023-03-01 00:08:04</td>\n",
       "      <td>2023-03-01 00:11:06</td>\n",
       "      <td>1.0</td>\n",
       "      <td>1.23</td>\n",
       "      <td>1.0</td>\n",
       "      <td>N</td>\n",
       "      <td>79</td>\n",
       "      <td>137</td>\n",
       "      <td>1</td>\n",
       "      <td>7.2</td>\n",
       "      <td>1.0</td>\n",
       "      <td>0.5</td>\n",
       "      <td>2.44</td>\n",
       "      <td>0.0</td>\n",
       "      <td>1.0</td>\n",
       "      <td>14.64</td>\n",
       "      <td>2.5</td>\n",
       "      <td>0.00</td>\n",
       "    </tr>\n",
       "  </tbody>\n",
       "</table>\n",
       "</div>"
      ],
      "text/plain": [
       "   VendorID tpep_pickup_datetime tpep_dropoff_datetime  passenger_count  \\\n",
       "0         2  2023-03-01 00:06:43   2023-03-01 00:16:43              1.0   \n",
       "1         2  2023-03-01 00:08:25   2023-03-01 00:39:30              2.0   \n",
       "2         1  2023-03-01 00:15:04   2023-03-01 00:29:26              0.0   \n",
       "3         1  2023-03-01 00:49:37   2023-03-01 01:01:05              1.0   \n",
       "4         2  2023-03-01 00:08:04   2023-03-01 00:11:06              1.0   \n",
       "\n",
       "   trip_distance  RatecodeID store_and_fwd_flag  PULocationID  DOLocationID  \\\n",
       "0           0.00         1.0                  N           238            42   \n",
       "1          12.40         1.0                  N           138           231   \n",
       "2           3.30         1.0                  N           140           186   \n",
       "3           2.90         1.0                  N           140            43   \n",
       "4           1.23         1.0                  N            79           137   \n",
       "\n",
       "   payment_type  fare_amount  extra  mta_tax  tip_amount  tolls_amount  \\\n",
       "0             2          8.6    1.0      0.5        0.00           0.0   \n",
       "1             1         52.7    6.0      0.5       12.54           0.0   \n",
       "2             1         18.4    3.5      0.5        4.65           0.0   \n",
       "3             1         15.6    3.5      0.5        4.10           0.0   \n",
       "4             1          7.2    1.0      0.5        2.44           0.0   \n",
       "\n",
       "   improvement_surcharge  total_amount  congestion_surcharge  Airport_fee  \n",
       "0                    1.0         11.10                   0.0         0.00  \n",
       "1                    1.0         76.49                   2.5         1.25  \n",
       "2                    1.0         28.05                   2.5         0.00  \n",
       "3                    1.0         24.70                   2.5         0.00  \n",
       "4                    1.0         14.64                   2.5         0.00  "
      ]
     },
     "execution_count": 12,
     "metadata": {},
     "output_type": "execute_result"
    }
   ],
   "source": [
    "df.head()"
   ]
  },
  {
   "cell_type": "code",
   "execution_count": 16,
   "id": "50ae7f00-cc05-4941-b977-04653d9b9804",
   "metadata": {},
   "outputs": [
    {
     "name": "stdout",
     "output_type": "stream",
     "text": [
      "24.77448997808052\n"
     ]
    },
    {
     "data": {
      "text/plain": [
       "0"
      ]
     },
     "execution_count": 16,
     "metadata": {},
     "output_type": "execute_result"
    }
   ],
   "source": [
    "os.system(\"python prefect_pipeline.py\")"
   ]
  },
  {
   "cell_type": "markdown",
   "id": "ee2dd760-5353-4c72-957c-35db01bf9ee8",
   "metadata": {},
   "source": [
    "What's the intercept of the model? **24.77**"
   ]
  },
  {
   "cell_type": "markdown",
   "id": "22f79775-6b67-4fc9-8996-14f59c0f5600",
   "metadata": {},
   "source": [
    "### Question 6. Register the model"
   ]
  },
  {
   "cell_type": "code",
   "execution_count": 3,
   "id": "e759e6c9-20ef-47ae-b078-39362109b699",
   "metadata": {},
   "outputs": [
    {
     "name": "stderr",
     "output_type": "stream",
     "text": [
      "2025/06/01 17:25:20 INFO mlflow.tracking.fluent: Experiment with name 'orchestration_experiment' does not exist. Creating a new experiment.\n",
      "\u001b[31m2025/06/01 17:25:59 WARNING mlflow.models.model: Model logged without a signature and input example. Please set `input_example` parameter when logging the model to auto infer the model signature.\u001b[0m\n",
      "Successfully registered model 'linear-reg-model'.\n",
      "2025/06/01 17:26:00 INFO mlflow.store.model_registry.abstract_store: Waiting up to 300 seconds for model version to finish creation. Model name: linear-reg-model, version 1\n",
      "Created version '1' of model 'linear-reg-model'.\n"
     ]
    },
    {
     "name": "stdout",
     "output_type": "stream",
     "text": [
      "🏃 View run useful-shrew-495 at: http://127.0.0.1:5000/#/experiments/1/runs/060605e97a534c78836ff4cc8494ccaa\n",
      "🧪 View experiment at: http://127.0.0.1:5000/#/experiments/1\n",
      "Finished training and registering run_id=060605e97a534c78836ff4cc8494ccaa as 'linear-reg-model'.\n"
     ]
    },
    {
     "data": {
      "text/plain": [
       "0"
      ]
     },
     "execution_count": 3,
     "metadata": {},
     "output_type": "execute_result"
    }
   ],
   "source": [
    "os.system(\"python prefect_pipeline.py\")"
   ]
  },
  {
   "cell_type": "markdown",
   "id": "688a0d67-04c4-4c27-b821-3687cccff0f3",
   "metadata": {},
   "source": [
    "model_size_bytes: **4500**"
   ]
  },
  {
   "cell_type": "code",
   "execution_count": 4,
   "id": "7f4b1cad-aa2a-437f-9d42-b20b76c4e793",
   "metadata": {},
   "outputs": [
    {
     "name": "stderr",
     "output_type": "stream",
     "text": [
      "17:36:10.088 | \u001b[36mINFO\u001b[0m    | prefect - Starting temporary server on \u001b[94mhttp://127.0.0.1:8722\u001b[0m\n",
      "See \u001b[94mhttps://docs.prefect.io/3.0/manage/self-host#self-host-a-prefect-server\u001b[0m for more information on running a dedicated Prefect server.\n",
      "17:36:13.487 | \u001b[36mINFO\u001b[0m    | Flow run\u001b[35m 'terrestrial-leopard'\u001b[0m - Beginning flow run\u001b[35m 'terrestrial-leopard'\u001b[0m for flow\u001b[1;35m 'main-flow'\u001b[0m\n",
      "17:36:17.531 | \u001b[36mINFO\u001b[0m    | Task run 'read_dataframe-39c' - Finished in state \u001b[32mCompleted\u001b[0m()\n",
      "\u001b[31m2025/06/01 17:36:53 WARNING mlflow.models.model: Model logged without a signature and input example. Please set `input_example` parameter when logging the model to auto infer the model signature.\u001b[0m\n",
      "17:36:53.492 | \u001b[36mINFO\u001b[0m    | Task run 'train_model-cfe' - Finished in state \u001b[32mCompleted\u001b[0m()\n",
      "Registered model 'linear-reg-model' already exists. Creating a new version of this model...\n",
      "2025/06/01 17:36:53 INFO mlflow.store.model_registry.abstract_store: Waiting up to 300 seconds for model version to finish creation. Model name: linear-reg-model, version 2\n",
      "Created version '2' of model 'linear-reg-model'.\n",
      "17:36:53.694 | \u001b[36mINFO\u001b[0m    | Flow run\u001b[35m 'terrestrial-leopard'\u001b[0m - Finished in state \u001b[32mCompleted\u001b[0m()\n",
      "17:36:53.712 | \u001b[36mINFO\u001b[0m    | prefect - Stopping temporary server on \u001b[94mhttp://127.0.0.1:8722\u001b[0m\n"
     ]
    },
    {
     "name": "stdout",
     "output_type": "stream",
     "text": [
      "🏃 View run resilient-stag-878 at: http://127.0.0.1:5000/#/experiments/1/runs/d5f616d5acef460fa481cd56d8ae105f\n",
      "🧪 View experiment at: http://127.0.0.1:5000/#/experiments/1\n",
      "Finished training and registering run_id=d5f616d5acef460fa481cd56d8ae105f as 'linear-reg-model'.\n"
     ]
    },
    {
     "data": {
      "text/plain": [
       "0"
      ]
     },
     "execution_count": 4,
     "metadata": {},
     "output_type": "execute_result"
    }
   ],
   "source": [
    "os.system(\"python prefect_pipeline.py\")"
   ]
  },
  {
   "cell_type": "code",
   "execution_count": null,
   "id": "3f14753d-bd94-4ac8-ae4c-95df95427446",
   "metadata": {},
   "outputs": [],
   "source": []
  }
 ],
 "metadata": {
  "kernelspec": {
   "display_name": "Python 3 (ipykernel)",
   "language": "python",
   "name": "python3"
  },
  "language_info": {
   "codemirror_mode": {
    "name": "ipython",
    "version": 3
   },
   "file_extension": ".py",
   "mimetype": "text/x-python",
   "name": "python",
   "nbconvert_exporter": "python",
   "pygments_lexer": "ipython3",
   "version": "3.12.2"
  }
 },
 "nbformat": 4,
 "nbformat_minor": 5
}
