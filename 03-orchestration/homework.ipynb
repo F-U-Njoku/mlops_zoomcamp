{
 "cells": [
  {
   "cell_type": "markdown",
   "id": "d3c74570-fa0a-4a4f-a869-346992c596cc",
   "metadata": {},
   "source": [
    "### Question 1. Select the Tool"
   ]
  },
  {
   "cell_type": "markdown",
   "id": "5d26a081-aca9-4022-9fd2-cdebaecb5df7",
   "metadata": {},
   "source": [
    "What's the name of the orchestrator you chose? **prefect**"
   ]
  },
  {
   "cell_type": "markdown",
   "id": "608c80e6-1ab6-4845-9020-6edcfa182048",
   "metadata": {},
   "source": [
    "### Question 2. Version"
   ]
  },
  {
   "cell_type": "code",
   "execution_count": 1,
   "id": "0472ce05-7042-4d01-9601-a4b24a19062b",
   "metadata": {},
   "outputs": [
    {
     "name": "stdout",
     "output_type": "stream",
     "text": [
      "Version:             3.4.4\n",
      "API version:         0.8.4\n",
      "Python version:      3.12.2\n",
      "Git commit:          0367d7aa\n",
      "Built:               Thu, May 29, 2025 09:37 PM\n",
      "OS/Arch:             linux/x86_64\n",
      "Profile:             ephemeral\n",
      "Server type:         ephemeral\n",
      "Pydantic version:    2.11.5\n",
      "Server:\n",
      "  Database:          sqlite\n",
      "  SQLite version:    3.46.0\n"
     ]
    }
   ],
   "source": [
    "import prefect \n",
    "!prefect version"
   ]
  },
  {
   "cell_type": "markdown",
   "id": "9678575e-b5c8-4081-ac8b-9445b3cbed26",
   "metadata": {},
   "source": [
    "What's the version of the orchestrator? **3.4.4**"
   ]
  },
  {
   "cell_type": "markdown",
   "id": "760d76b6-3750-4f7a-9177-63fb59486e8f",
   "metadata": {},
   "source": [
    "### Question 3. Creating a pipeline"
   ]
  },
  {
   "cell_type": "code",
   "execution_count": 2,
   "id": "98d8d555-8669-4fc9-b4c3-a35e852d19b4",
   "metadata": {},
   "outputs": [],
   "source": [
    "import os"
   ]
  },
  {
   "cell_type": "code",
   "execution_count": 8,
   "id": "84482ca3-875a-4e06-a049-e7cf647266c5",
   "metadata": {},
   "outputs": [
    {
     "name": "stdout",
     "output_type": "stream",
     "text": [
      "The number of records is 3403766.\n"
     ]
    },
    {
     "data": {
      "text/plain": [
       "0"
      ]
     },
     "execution_count": 8,
     "metadata": {},
     "output_type": "execute_result"
    }
   ],
   "source": [
    "os.system(f\"python prefect_pipeline.py\")"
   ]
  },
  {
   "cell_type": "markdown",
   "id": "cefe1937-3087-4fc2-b9bf-fb785b368728",
   "metadata": {},
   "source": [
    "How many records did we load? **3,403,766**"
   ]
  },
  {
   "cell_type": "markdown",
   "id": "8d18457d-a38e-4788-a235-347ce1ae4a07",
   "metadata": {},
   "source": [
    "### Question 4. Data preparation"
   ]
  },
  {
   "cell_type": "code",
   "execution_count": null,
   "id": "b01b88df-1e8d-4f1b-a0ae-9909d4beaaaa",
   "metadata": {},
   "outputs": [],
   "source": []
  }
 ],
 "metadata": {
  "kernelspec": {
   "display_name": "Python 3 (ipykernel)",
   "language": "python",
   "name": "python3"
  },
  "language_info": {
   "codemirror_mode": {
    "name": "ipython",
    "version": 3
   },
   "file_extension": ".py",
   "mimetype": "text/x-python",
   "name": "python",
   "nbconvert_exporter": "python",
   "pygments_lexer": "ipython3",
   "version": "3.12.2"
  }
 },
 "nbformat": 4,
 "nbformat_minor": 5
}
